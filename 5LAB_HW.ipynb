{
  "nbformat": 4,
  "nbformat_minor": 0,
  "metadata": {
    "colab": {
      "provenance": []
    },
    "kernelspec": {
      "name": "python3",
      "display_name": "Python 3"
    },
    "language_info": {
      "name": "python"
    }
  },
  "cells": [
    {
      "cell_type": "code",
      "execution_count": 33,
      "metadata": {
        "colab": {
          "base_uri": "https://localhost:8080/"
        },
        "id": "o6V8Eb73kmFU",
        "outputId": "91b47994-a28b-4a71-eb2b-cc50c2ffcd1e"
      },
      "outputs": [
        {
          "output_type": "stream",
          "name": "stdout",
          "text": [
            "Ітерація:\n",
            "x= 0.53 \n",
            "y= -0.14 \n",
            "Кількість ітерацій =  1\n",
            "Перевірка [ 0.537853   -0.13868462]\n"
          ]
        }
      ],
      "source": [
        "import numpy as np\n",
        "from scipy import optimize\n",
        "\n",
        "x0 = 0.53\n",
        "y0 = -0.14\n",
        "\n",
        "def f1(y):\n",
        "    return np.cos(y - 2) - 0\n",
        "def f2 (x):\n",
        "    return np.sin(x + 0.5) - 1\n",
        "\n",
        "def metod_iteration(x,y,e):\n",
        "    xn = x\n",
        "    yn = y\n",
        "    xn1 = f2(x)\n",
        "    yn1 = f1(y)\n",
        "    n = 1\n",
        "    while ((abs(xn1-xn) < e) & (abs(yn1-yn) < e)):\n",
        "        xn = xn1\n",
        "        yn = yn1\n",
        "        xn1 = f2(yn)\n",
        "        yn1 = f1(xn)\n",
        "        n += 1\n",
        "    print (\"Ітерація:\")\n",
        "    print('x=', xn, '\\ny=',yn,'\\nКількість ітерацій = ',n)\n",
        "metod_iteration(x0,y0,0.001)\n",
        "\n",
        "def check(x):\n",
        "    return np.sin(x[0] + 0.5) - x[1] - 1, np.cos(x[1] - 2) + x[0] - 0\n",
        "s = optimize.root(check, [0.,0.], method = 'hybr')\n",
        "print ('Перевірка',s.x)\n"
      ]
    }
  ]
}