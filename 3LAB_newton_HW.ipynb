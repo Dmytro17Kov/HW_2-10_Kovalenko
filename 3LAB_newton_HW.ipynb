{
  "nbformat": 4,
  "nbformat_minor": 0,
  "metadata": {
    "colab": {
      "provenance": []
    },
    "kernelspec": {
      "name": "python3",
      "display_name": "Python 3"
    },
    "language_info": {
      "name": "python"
    }
  },
  "cells": [
    {
      "cell_type": "code",
      "execution_count": 38,
      "metadata": {
        "colab": {
          "base_uri": "https://localhost:8080/"
        },
        "id": "S1OHJ71qkKRz",
        "outputId": "74219b7a-384e-47d0-b3eb-ab054927cbe8"
      },
      "outputs": [
        {
          "output_type": "stream",
          "name": "stdout",
          "text": [
            "Метод Ньютона:  -0.8250250126091171\n",
            "Метод Ньютона:  1.4194033808933262\n"
          ]
        },
        {
          "output_type": "stream",
          "name": "stderr",
          "text": [
            "<ipython-input-38-5018d7cb7c7d>:12: DeprecationWarning: scipy.misc.derivative is deprecated in SciPy v1.10.0; and will be completely removed in SciPy v1.12.0. You may consider using findiff: https://github.com/maroba/findiff or numdifftools: https://github.com/pbrod/numdifftools\n",
            "  df_2 = derivative(f, b, n = 2)\n",
            "<ipython-input-38-5018d7cb7c7d>:19: DeprecationWarning: scipy.misc.derivative is deprecated in SciPy v1.10.0; and will be completely removed in SciPy v1.12.0. You may consider using findiff: https://github.com/maroba/findiff or numdifftools: https://github.com/pbrod/numdifftools\n",
            "  df_1 = derivative(f, x_i)\n"
          ]
        }
      ],
      "source": [
        "import math\n",
        "from scipy.misc import derivative\n",
        "\n",
        "def f(x):\n",
        "  return 4.5*pow(x, 4) - 4*pow(x,3) + 1.5*pow(x, 2)  - 2*x - 7\n",
        "\n",
        "eps = 0.0001\n",
        "a = -1\n",
        "b = 0\n",
        "\n",
        "def metod_newton(a, b, eps):\n",
        "  df_2 = derivative(f, b, n = 2)\n",
        "\n",
        "  if(f(b) * df_2) > 0:\n",
        "    x_i = b\n",
        "  else:\n",
        "    x_i = a\n",
        "\n",
        "  df_1 = derivative(f, x_i)\n",
        "  h = f(x_i) / df_1\n",
        "  x1 = x_i - h\n",
        "\n",
        "  while(abs(x1 - x_i) > eps):\n",
        "    x_i = x1\n",
        "    x1 = x_i - f(x_i) / df_1\n",
        "  return print(\"Метод Ньютона: \", x1)\n",
        "\n",
        "metod_newton(a, b, eps)\n",
        "metod_newton(1, 2, eps)"
      ]
    }
  ]
}