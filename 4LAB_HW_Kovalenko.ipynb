{
  "nbformat": 4,
  "nbformat_minor": 0,
  "metadata": {
    "colab": {
      "provenance": []
    },
    "kernelspec": {
      "name": "python3",
      "display_name": "Python 3"
    },
    "language_info": {
      "name": "python"
    }
  },
  "cells": [
    {
      "cell_type": "code",
      "execution_count": null,
      "metadata": {
        "colab": {
          "base_uri": "https://localhost:8080/"
        },
        "id": "8ufMtRcdb__F",
        "outputId": "135cf7fb-6a36-467a-9dcc-48fba3c6dff2"
      },
      "outputs": [
        {
          "output_type": "stream",
          "name": "stdout",
          "text": [
            "A = \n",
            " [[ 2  3  1]\n",
            " [-1  1  0]\n",
            " [ 1  2 -1]]\n",
            "B = \n",
            " [[1 2 1]\n",
            " [0 1 2]\n",
            " [3 1 1]]\n",
            "A * B = \n",
            " [[ 5  8  9]\n",
            " [-1 -1  1]\n",
            " [-2  3  4]]\n",
            "B * A = \n",
            " [[ 1  7  0]\n",
            " [ 1  5 -2]\n",
            " [ 6 12  2]]\n",
            "C = AB - BA = \n",
            " [[ 4  1  9]\n",
            " [-2 -6  3]\n",
            " [-8 -9  2]]\n"
          ]
        }
      ],
      "source": [
        "#1\n",
        "import numpy as np\n",
        "\n",
        "A = np.matrix(\"2,3,1;-1,1,0;1,2,-1\")\n",
        "B = np.matrix(\"1,2,1;0,1,2;3,1,1\")\n",
        "\n",
        "AB = np.dot(A,B)\n",
        "BA = np.dot(B,A)\n",
        "C = AB - BA\n",
        "print(\"A = \\n\", A)\n",
        "print(\"B = \\n\", B)\n",
        "print(\"A * B = \\n\", AB)\n",
        "print(\"B * A = \\n\", BA)\n",
        "print(\"C = AB - BA = \\n\", C)\n"
      ]
    },
    {
      "cell_type": "code",
      "source": [
        "#2\n",
        "import numpy as np\n",
        "\n",
        "matrix = np.matrix(\"-1,0,2;0,1,0;1,2,-1\")\n",
        "result = np.linalg.matrix_power(matrix,2)\n",
        "\n",
        "print(\"Our matrix = \\n\", matrix)\n",
        "print(\"Out result power 2 = \\n\", result)"
      ],
      "metadata": {
        "colab": {
          "base_uri": "https://localhost:8080/"
        },
        "id": "MeD_24jH2D2e",
        "outputId": "cbcf585f-3179-4ab7-c3fa-bf1b53ef0216"
      },
      "execution_count": null,
      "outputs": [
        {
          "output_type": "stream",
          "name": "stdout",
          "text": [
            "Our matrix = \n",
            " [[-1  0  2]\n",
            " [ 0  1  0]\n",
            " [ 1  2 -1]]\n",
            "Out result power 2 = \n",
            " [[ 3  4 -4]\n",
            " [ 0  1  0]\n",
            " [-2  0  3]]\n"
          ]
        }
      ]
    },
    {
      "cell_type": "code",
      "source": [
        "#3\n",
        "import numpy as np\n",
        "\n",
        "a = np.matrix(\"5,8,-4;6,9,-5;4,7,-3\")\n",
        "b = np.matrix(\"3,2,5;4,-1,3;9,6,5\")\n",
        "\n",
        "AB = np.dot(a, b)\n",
        "\n",
        "print(\"Matrix a = \\n\", a)\n",
        "print(\"Matrix b = \\n\", b)\n",
        "print(\"Our result multiple matrix a in b = \\n\", AB)"
      ],
      "metadata": {
        "id": "ls9FGBjjcgKy",
        "colab": {
          "base_uri": "https://localhost:8080/"
        },
        "outputId": "b005850c-9223-415f-c70c-2e65c5ab499b"
      },
      "execution_count": null,
      "outputs": [
        {
          "output_type": "stream",
          "name": "stdout",
          "text": [
            "Matrix a = \n",
            " [[ 5  8 -4]\n",
            " [ 6  9 -5]\n",
            " [ 4  7 -3]]\n",
            "Matrix b = \n",
            " [[ 3  2  5]\n",
            " [ 4 -1  3]\n",
            " [ 9  6  5]]\n",
            "Our result multiple matrix a in b = \n",
            " [[ 11 -22  29]\n",
            " [  9 -27  32]\n",
            " [ 13 -17  26]]\n"
          ]
        }
      ]
    },
    {
      "cell_type": "code",
      "source": [
        "#4\n",
        "import numpy as np\n",
        "\n",
        "matrix = np.matrix(\"0,2,0;3,4,5;6,7,8\")\n",
        "result = np.linalg.det(matrix)\n",
        "\n",
        "print(\"Our matrix = \\n\", matrix)\n",
        "print(\"Our result det(matrix) = \", result)"
      ],
      "metadata": {
        "colab": {
          "base_uri": "https://localhost:8080/"
        },
        "id": "bqcdDPEA5_co",
        "outputId": "3774da2f-9087-479e-da45-8dda60bd10d6"
      },
      "execution_count": null,
      "outputs": [
        {
          "output_type": "stream",
          "name": "stdout",
          "text": [
            "Our matrix = \n",
            " [[0 2 0]\n",
            " [3 4 5]\n",
            " [6 7 8]]\n",
            "Our result det(matrix) =  12.0\n"
          ]
        }
      ]
    },
    {
      "cell_type": "code",
      "source": [
        "#5\n",
        "import numpy as np\n",
        "\n",
        "matrix = np.matrix(\"2,3,4,1;1,2,3,4;3,4,1,2;4,1,2,3\")\n",
        "result = np.linalg.det(matrix)\n",
        "\n",
        "print(\"Our matrix = \\n\", matrix)\n",
        "print(\"Our result det(matrix) = \", result.round(3))"
      ],
      "metadata": {
        "colab": {
          "base_uri": "https://localhost:8080/"
        },
        "id": "GaGVMqj761DX",
        "outputId": "56ded811-d03d-4e86-9d33-52c50977637a"
      },
      "execution_count": null,
      "outputs": [
        {
          "output_type": "stream",
          "name": "stdout",
          "text": [
            "Our matrix = \n",
            " [[2 3 4 1]\n",
            " [1 2 3 4]\n",
            " [3 4 1 2]\n",
            " [4 1 2 3]]\n",
            "Our result det(matrix) =  -160.0\n"
          ]
        }
      ]
    },
    {
      "cell_type": "code",
      "source": [
        "#6\n",
        "import numpy as np\n",
        "\n",
        "matrix = np.matrix(\"2,5,7;6,3,4;5,-2,-3\")\n",
        "result = np.linalg.inv(matrix)\n",
        "\n",
        "print(\"Our matrix = \\n\", matrix)\n",
        "print(\"Our result inverted matrix = \\n\", result)\n"
      ],
      "metadata": {
        "colab": {
          "base_uri": "https://localhost:8080/"
        },
        "id": "4iESi3VM4Tr3",
        "outputId": "3494a67e-cce2-44ce-969e-eba299ae44da"
      },
      "execution_count": null,
      "outputs": [
        {
          "output_type": "stream",
          "name": "stdout",
          "text": [
            "Our matrix = \n",
            " [[ 2  5  7]\n",
            " [ 6  3  4]\n",
            " [ 5 -2 -3]]\n",
            "Our result inverted matrix = \n",
            " [[  1.  -1.   1.]\n",
            " [-38.  41. -34.]\n",
            " [ 27. -29.  24.]]\n"
          ]
        }
      ]
    },
    {
      "cell_type": "code",
      "source": [
        "#7\n",
        "import numpy as np\n",
        "\n",
        "matrix = np.matrix(\"1,-1,3,4;0,-1,2,1;1,1,-1,2;2,3,-5,3\")\n",
        "result = np.linalg.matrix_rank(matrix)\n",
        "\n",
        "print(\"Our matrix = \\n\", matrix)\n",
        "print(\"Our result rank matrix = \", result)\n"
      ],
      "metadata": {
        "colab": {
          "base_uri": "https://localhost:8080/"
        },
        "id": "KtDVMYl08y-z",
        "outputId": "67dafd8d-5cbf-42c4-d64a-2f69f32b5e4a"
      },
      "execution_count": null,
      "outputs": [
        {
          "output_type": "stream",
          "name": "stdout",
          "text": [
            "Our matrix = \n",
            " [[ 1 -1  3  4]\n",
            " [ 0 -1  2  1]\n",
            " [ 1  1 -1  2]\n",
            " [ 2  3 -5  3]]\n",
            "Our result rank matrix =  3\n"
          ]
        }
      ]
    },
    {
      "cell_type": "code",
      "source": [
        "#8\n",
        "import numpy as np\n",
        "\n",
        "a = np.matrix(\"14,4,6;5,-3,2;10,-11,5\")\n",
        "b = np.matrix(\"30;15;36\")\n",
        "\n",
        "def metod_сram(a,b):\n",
        "  det_a = np.linalg.det(a)\n",
        "  x = []\n",
        "  if det_a != 0:\n",
        "    for i in range(len(b)):\n",
        "      Ai = a.copy()\n",
        "      Ai[:, i] = b\n",
        "\n",
        "      det_Ai = np.linalg.det(Ai)\n",
        "\n",
        "      xi = det_Ai / det_a\n",
        "      x.append(xi.round(3))\n",
        "  return x\n",
        "def matrix_metod(a,b):\n",
        "  a_inv = np.linalg.inv(a)\n",
        "\n",
        "  x = np.dot(a_inv,b)\n",
        "  return x\n",
        "result_matrix_metod = matrix_metod(a,b)\n",
        "result_metod_cram = metod_сram(a, b)\n",
        "print(\"Our matrix a = \\n\", a)\n",
        "print(\"Our matrix b = \\n\", b)\n",
        "print(\"Result Metod Crama = \", result_metod_cram)\n",
        "print(\"Result Matrix Metod = \", result_matrix_metod)\n",
        "print(\"Result by the agency solve()\\n\", np.linalg.solve(a,b).round(3))"
      ],
      "metadata": {
        "colab": {
          "base_uri": "https://localhost:8080/"
        },
        "id": "wmRkvvWK9mOO",
        "outputId": "af933587-8f07-45eb-9ea9-285fd1ffc5dd"
      },
      "execution_count": 3,
      "outputs": [
        {
          "output_type": "stream",
          "name": "stdout",
          "text": [
            "Our matrix a = \n",
            " [[ 14   4   6]\n",
            " [  5  -3   2]\n",
            " [ 10 -11   5]]\n",
            "Our matrix b = \n",
            " [[30]\n",
            " [15]\n",
            " [36]]\n",
            "Result Metod Crama =  [2.0, -1.0, 1.0]\n",
            "Result Matrix Metod =  [[ 2.]\n",
            " [-1.]\n",
            " [ 1.]]\n",
            "Result by the agency solve()\n",
            " [[ 2.]\n",
            " [-1.]\n",
            " [ 1.]]\n"
          ]
        }
      ]
    },
    {
      "cell_type": "code",
      "source": [
        "#2\n",
        "#5. Створіть прямокутну матрицю A, яка має N рядків і M стовпців з випадковими елементами. Знайдіть суму елементів всієї матриці. Визначте, яку долю в цій сумі складає сума елементів кожного рядка.\n",
        "import numpy as np\n",
        "\n",
        "N = int(input(\"N = \"))\n",
        "M = int(input(\"M = \"))\n",
        "\n",
        "random_matrix = np.random.randint(0, 101, size=(N, M))\n",
        "result = 0\n",
        "\n",
        "for i in random_matrix:\n",
        "   for j in i:\n",
        "      result += j\n",
        "\n",
        "sum_row = np.sum(random_matrix, axis = 1)\n",
        "count = 1\n",
        "\n",
        "for i in sum_row:\n",
        "   print(f\"Row number {count} = \", i)\n",
        "   count += 1\n",
        "\n",
        "print(\"Our result = \", result)\n",
        "print(\"Our matrix = \\n\", random_matrix)\n"
      ],
      "metadata": {
        "id": "omAig9P2D2X6",
        "colab": {
          "base_uri": "https://localhost:8080/"
        },
        "outputId": "fdfb6ae0-ab3f-4206-9cc8-5255fce963c0"
      },
      "execution_count": null,
      "outputs": [
        {
          "output_type": "stream",
          "name": "stdout",
          "text": [
            "N = 3\n",
            "M = 3\n",
            "Row number 1 =  167\n",
            "Row number 2 =  166\n",
            "Row number 3 =  141\n",
            "Our result =  474\n",
            "Our matrix = \n",
            " [[31 44 92]\n",
            " [ 7 70 89]\n",
            " [88  2 51]]\n"
          ]
        }
      ]
    }
  ]
}