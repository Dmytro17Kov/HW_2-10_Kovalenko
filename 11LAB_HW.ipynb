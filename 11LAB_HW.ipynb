{
  "nbformat": 4,
  "nbformat_minor": 0,
  "metadata": {
    "colab": {
      "provenance": []
    },
    "kernelspec": {
      "name": "python3",
      "display_name": "Python 3"
    },
    "language_info": {
      "name": "python"
    }
  },
  "cells": [
    {
      "cell_type": "code",
      "execution_count": null,
      "metadata": {
        "id": "RKQn_4FpTIBV",
        "colab": {
          "base_uri": "https://localhost:8080/"
        },
        "outputId": "285da3df-f795-4d94-acfa-9d2c527ca342"
      },
      "outputs": [
        {
          "output_type": "stream",
          "name": "stdout",
          "text": [
            "Лівий прямокутник: 0.377\n",
            "Правий прямокутник: 0.375\n",
            "Середній прямокутник: 0.406\n",
            "Перевірка до методу прямокутників: 0.376\n"
          ]
        }
      ],
      "source": [
        "from scipy import integrate\n",
        "import numpy as np\n",
        "\n",
        "eps = 0.001\n",
        "a = 0.8\n",
        "b = 1.4\n",
        "n = 10\n",
        "\n",
        "def integral(x):\n",
        "  return 1 / np.sqrt(0.5 * x + 2)\n",
        "\n",
        "def left_rectangle(integral,a,b,n):\n",
        "  h = (b - a) / n\n",
        "  sum = 0\n",
        "\n",
        "  for i in range(0, n):\n",
        "    sum += integral(a + i * h)\n",
        "\n",
        "  return sum * h\n",
        "\n",
        "left = left_rectangle(integral, a, b, n).round(3)\n",
        "\n",
        "if abs(left_rectangle(integral, a, b, n*2) - left_rectangle(integral, a, b, n)) / 3 <= eps:\n",
        "  print(\"Лівий прямокутник:\", left)\n",
        "\n",
        "def right_rectangle(integral, a, b, n):\n",
        "  h = (b - a) / n\n",
        "  sum = 0\n",
        "\n",
        "  for i in range(1, n + 1):\n",
        "    sum += integral(a + i * h)\n",
        "\n",
        "  return sum * h\n",
        "right = right_rectangle(integral, a, b, n).round(3)\n",
        "print(\"Правий прямокутник:\", right)\n",
        "\n",
        "def middle_rectangle(integral, a, b, n):\n",
        "  h = (b - a) / n\n",
        "  sum = 0\n",
        "  middle = (right + left) / 2\n",
        "\n",
        "  for i in range(0, n):\n",
        "    sum += integral(middle)\n",
        "\n",
        "  return sum * h\n",
        "\n",
        "print(\"Середній прямокутник:\", middle_rectangle(integral, a, b, n).round(3))\n",
        "\n",
        "v,err = integrate.quad(integral, a, b)\n",
        "print(\"Перевірка до методу прямокутників:\", round(v, 3))"
      ]
    },
    {
      "cell_type": "code",
      "source": [
        "from scipy import integrate\n",
        "import numpy as np\n",
        "\n",
        "eps = 0.001\n",
        "a = 0.4\n",
        "b = 1.2\n",
        "n = 8\n",
        "\n",
        "def integral(x):\n",
        "    return np.sqrt(x) * np.cos(x**2)\n",
        "\n",
        "def simpson_method(func, a, b, n):\n",
        "    h = (b - a) / n\n",
        "    integral = func(a) + func(b)\n",
        "\n",
        "    for i in range(1,n):\n",
        "        k = a + i * h\n",
        "\n",
        "        if i % 2 == 0:\n",
        "            integral += 2 * func(k)\n",
        "        else:\n",
        "            integral += 4 * func(k)\n",
        "\n",
        "    integral *= h / 3\n",
        "\n",
        "    return integral\n",
        "\n",
        "integral_1 = simpson_method(integral, a, b, n)\n",
        "n *= 2\n",
        "integral_2 = simpson_method(integral, a, b, n)\n",
        "\n",
        "while abs(integral_2 - integral_1) / 15 > 0.001:\n",
        "    integral_1 = integral_2\n",
        "    n *= 2\n",
        "    integral_2 = simpson_method(integral, a, b, n)\n",
        "\n",
        "print(\"Метод Сімпсона:\", round(integral_2, 3))\n",
        "\n",
        "v,err = integrate.quad(integral,a,b)\n",
        "print(\"Перевірка методу Сімпсона:\",round(v, 3))\n"
      ],
      "metadata": {
        "colab": {
          "base_uri": "https://localhost:8080/"
        },
        "id": "euKqjgY7Z16k",
        "outputId": "86abf3c2-cedf-4644-b0fc-0703a3e77fb8"
      },
      "execution_count": 1,
      "outputs": [
        {
          "output_type": "stream",
          "name": "stdout",
          "text": [
            "Метод Сімпсона: 0.484\n",
            "Перевірка методу Сімпсона: 0.484\n"
          ]
        }
      ]
    },
    {
      "cell_type": "code",
      "source": [
        "from scipy import integrate\n",
        "import numpy as np\n",
        "\n",
        "def integral(x):\n",
        "    return 1 / np.sqrt(3 * x**2 - 0.4)\n",
        "\n",
        "a = 1.3\n",
        "b = 2.1\n",
        "n = 20\n",
        "\n",
        "def trapezoidal_rule(func, a, b, n):\n",
        "    h = (b - a) / n\n",
        "    x = a\n",
        "    sum = 0\n",
        "\n",
        "    for i in range(1, n):\n",
        "        x += h\n",
        "        sum += 2 * func(x)\n",
        "\n",
        "    sum += func(b)\n",
        "    integral = h / 2 * sum\n",
        "\n",
        "    return integral\n",
        "\n",
        "\n",
        "integral_1 = trapezoidal_rule(integral, a, b, n)\n",
        "n *= 2\n",
        "integral_2 = trapezoidal_rule(integral, a, b, n)\n",
        "\n",
        "while abs(integral_2 - integral_1) / n > 0.001:\n",
        "    integral_1 = integral_2\n",
        "    n *= 2\n",
        "    integral_2 = trapezoidal_rule(integral, a, b, n)\n",
        "\n",
        "\n",
        "print(\"Метод Трапеції:\", round(integral_2, 3))\n",
        "\n",
        "v,err = integrate.quad(integral, a, b)\n",
        "print(\"Перевірка методу Трапецій: \",round(v, 3))\n"
      ],
      "metadata": {
        "colab": {
          "base_uri": "https://localhost:8080/"
        },
        "id": "QkFiLTrBoZQS",
        "outputId": "266c3f98-81a5-4f46-b8bb-df4541e84adb"
      },
      "execution_count": null,
      "outputs": [
        {
          "output_type": "stream",
          "name": "stdout",
          "text": [
            "Метод Трапеції: 0.28\n",
            "Перевірка методу Трапецій:  0.284\n"
          ]
        }
      ]
    }
  ]
}