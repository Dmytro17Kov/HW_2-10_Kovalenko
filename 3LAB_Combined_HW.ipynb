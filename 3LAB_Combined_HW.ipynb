{
  "nbformat": 4,
  "nbformat_minor": 0,
  "metadata": {
    "colab": {
      "provenance": []
    },
    "kernelspec": {
      "name": "python3",
      "display_name": "Python 3"
    },
    "language_info": {
      "name": "python"
    }
  },
  "cells": [
    {
      "cell_type": "code",
      "execution_count": 17,
      "metadata": {
        "colab": {
          "base_uri": "https://localhost:8080/"
        },
        "id": "_0CaBr_Mjxyb",
        "outputId": "8b29040d-a3ad-4ca3-fefe-16e687a4f22a"
      },
      "outputs": [
        {
          "output_type": "stream",
          "name": "stdout",
          "text": [
            "Комбінований метод:  -0.8249674951184456\n",
            "Комбінований метод:  1.4190983502188983\n"
          ]
        },
        {
          "output_type": "stream",
          "name": "stderr",
          "text": [
            "<ipython-input-17-6a2a0fe9a82f>:12: DeprecationWarning: scipy.misc.derivative is deprecated in SciPy v1.10.0; and will be completely removed in SciPy v1.12.0. You may consider using findiff: https://github.com/maroba/findiff or numdifftools: https://github.com/pbrod/numdifftools\n",
            "  df_1 = derivative(f, a)\n",
            "<ipython-input-17-6a2a0fe9a82f>:13: DeprecationWarning: scipy.misc.derivative is deprecated in SciPy v1.10.0; and will be completely removed in SciPy v1.12.0. You may consider using findiff: https://github.com/maroba/findiff or numdifftools: https://github.com/pbrod/numdifftools\n",
            "  df_2 = derivative(f, a, n = 2)\n",
            "<ipython-input-17-6a2a0fe9a82f>:26: DeprecationWarning: scipy.misc.derivative is deprecated in SciPy v1.10.0; and will be completely removed in SciPy v1.12.0. You may consider using findiff: https://github.com/maroba/findiff or numdifftools: https://github.com/pbrod/numdifftools\n",
            "  db_n = derivative(f, b_n)\n"
          ]
        }
      ],
      "source": [
        "import math\n",
        "from scipy.misc import derivative\n",
        "\n",
        "def f(x):\n",
        "  return 4.5*pow(x, 4) - 4*pow(x,3) + 1.5*pow(x, 2)  - 2*x - 7\n",
        "\n",
        "eps = 0.0001\n",
        "a = -1\n",
        "b = 0\n",
        "\n",
        "def combined_metod(a, b, eps):\n",
        "  df_1 = derivative(f, a)\n",
        "  df_2 = derivative(f, a, n = 2)\n",
        "  if(df_1 * df_2) > 0:\n",
        "    a1 = a\n",
        "    b1 = b\n",
        "  else:\n",
        "    a1 = b\n",
        "    b1 = a\n",
        "\n",
        "  a_n = a1\n",
        "  b_n = b1\n",
        "\n",
        "  while abs(b_n - a_n ) > eps:\n",
        "    a_1 = a_n - f(a_n) * (b_n - a_n) / (f(b_n) - f(a_n))\n",
        "    db_n = derivative(f, b_n)\n",
        "    b_1 = b_n - f(b_n) / db_n\n",
        "    a_n = a_1\n",
        "    b_n = b_1\n",
        "  x = (b_n + a_n) / 2\n",
        "  return print(\"Комбінований метод: \", x)\n",
        "\n",
        "combined_metod(a, b, eps)\n",
        "combined_metod(1, 2, eps)\n",
        "\n"
      ]
    }
  ]
}