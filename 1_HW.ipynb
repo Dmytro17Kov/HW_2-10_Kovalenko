{
  "nbformat": 4,
  "nbformat_minor": 0,
  "metadata": {
    "colab": {
      "provenance": []
    },
    "kernelspec": {
      "name": "python3",
      "display_name": "Python 3"
    },
    "language_info": {
      "name": "python"
    }
  },
  "cells": [
    {
      "cell_type": "code",
      "execution_count": 36,
      "metadata": {
        "colab": {
          "base_uri": "https://localhost:8080/"
        },
        "id": "KHTxn1xcElMI",
        "outputId": "b63666d5-94dc-4246-b986-1142d583f711"
      },
      "outputs": [
        {
          "output_type": "stream",
          "name": "stdout",
          "text": [
            "Друга рівність точніше з відносною похибкою: 0.0000833333\n"
          ]
        }
      ],
      "source": [
        "import math\n",
        "\n",
        "x1 = math.sqrt(74)\n",
        "x2 = 12/11\n",
        "x1_1 = 8.60\n",
        "x2_2 = 1.091\n",
        "\n",
        "def function(x1, x2, x1_1, x2_2):\n",
        "  real_error_x1 = abs((x1 - x1_1) / x1)\n",
        "  real_error_x2 = abs((x2 - x2_2) / x2)\n",
        "\n",
        "  if real_error_x1 < real_error_x2:\n",
        "    print(\"Перша рівність точніше з відносною похибкою:\", f\"{real_error_x1:.10f}\")\n",
        "  elif real_error_x1 > real_error_x2:\n",
        "    print(\"Друга рівність точніше з відносною похибкою:\", f\"{real_error_x2:.10f}\")\n",
        "  else:\n",
        "    print(\"Обидві рівності мають однакову точність з відносною похибкою:\", f\"{real_error_x1:.10f}\")\n",
        "\n",
        "function(x1, x2, x1_1, x2_2)"
      ]
    }
  ]
}