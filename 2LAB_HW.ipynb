{
  "cells": [
    {
      "cell_type": "code",
      "source": [
        "import math\n",
        "import numpy as np\n",
        "from scipy.misc import derivative\n",
        "\n",
        "#Функція\n",
        "def f(x):\n",
        "   return 4.5*pow(x, 4) - 4*pow(x,3) + 1.5*pow(x, 2)  - 2*x - 7\n",
        "\n",
        "eps=0.0001\n",
        "\n",
        "#Метод половинного ділення\n",
        "def rec(a, b, eps):\n",
        "    while(abs(a-b) > eps):\n",
        "        if f(a) * f((a+b) / 2) < 0:\n",
        "            b = (a+b) / 2\n",
        "        else:\n",
        "            a = (a+b) / 2\n",
        "        x = (a+b) / 2\n",
        "    print('x= ', round(x,5), \" - Метод половинного ділення\")\n",
        "\n",
        "#Метод хорд\n",
        "def hord (a,b,eps):\n",
        "    if(f(a) * derivative(f, a, n = 2) > 0):\n",
        "        x0 = a\n",
        "        xi = b\n",
        "    else:\n",
        "        x0 = b\n",
        "        xi = a\n",
        "    xi_1 = xi-(xi-x0) * f(xi) / (f(xi) - f(x0))\n",
        "    while (abs(xi_1-xi) > eps):\n",
        "        xi = xi_1\n",
        "        xi_1 = xi - (xi-x0) * f(xi) / (f(xi) - f(x0))\n",
        "    print('x= ', round (xi_1,5), \" - Метод хорд:\")\n",
        "a = -1\n",
        "b = 0\n",
        "print(\"Перший відрізок\")\n",
        "rec(a,b,eps)\n",
        "hord(a,b,eps)\n",
        "print(\"Другий відрізок\")\n",
        "rec(1,2,eps)\n",
        "hord(1,2,eps)\n",
        "\n"
      ],
      "metadata": {
        "colab": {
          "base_uri": "https://localhost:8080/"
        },
        "id": "uXMLBr79mvYU",
        "outputId": "c988f112-326e-4f07-f176-e851fda84870"
      },
      "execution_count": 19,
      "outputs": [
        {
          "output_type": "stream",
          "name": "stdout",
          "text": [
            "Перший відрізок\n",
            "x=  -0.82492  - Метод половинного ділення\n",
            "x=  -0.82491  - Метод хорд:\n",
            "Другий відрізок\n",
            "x=  1.41904  - Метод половинного ділення\n",
            "x=  1.41896  - Метод хорд:\n"
          ]
        },
        {
          "output_type": "stream",
          "name": "stderr",
          "text": [
            "<ipython-input-19-41bef379e706>:23: DeprecationWarning: scipy.misc.derivative is deprecated in SciPy v1.10.0; and will be completely removed in SciPy v1.12.0. You may consider using findiff: https://github.com/maroba/findiff or numdifftools: https://github.com/pbrod/numdifftools\n",
            "  if(f(a)*derivative(f, a, n = 2) > 0):\n"
          ]
        }
      ]
    }
  ],
  "metadata": {
    "colab": {
      "provenance": []
    },
    "kernelspec": {
      "display_name": "Python 3",
      "name": "python3"
    },
    "language_info": {
      "name": "python"
    }
  },
  "nbformat": 4,
  "nbformat_minor": 0
}