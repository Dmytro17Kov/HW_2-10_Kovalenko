{
  "nbformat": 4,
  "nbformat_minor": 0,
  "metadata": {
    "colab": {
      "provenance": []
    },
    "kernelspec": {
      "name": "python3",
      "display_name": "Python 3"
    },
    "language_info": {
      "name": "python"
    }
  },
  "cells": [
    {
      "cell_type": "code",
      "execution_count": 3,
      "metadata": {
        "colab": {
          "base_uri": "https://localhost:8080/"
        },
        "id": "vN9wHhETAJ-N",
        "outputId": "117ddbbd-97bb-4cb4-b07b-38efe1a67060"
      },
      "outputs": [
        {
          "output_type": "stream",
          "name": "stdout",
          "text": [
            "Знайдені відрізки:  [-1, 0]\n",
            "Знайдені відрізки:  [1, 2]\n"
          ]
        }
      ],
      "source": [
        "import math\n",
        "import numpy as np\n",
        "\n",
        "def f(x):\n",
        "   return 4.5*pow(x, 4) - 4*pow(x,3) + 1.5*pow(x, 2)  - 2*x - 7\n",
        "\n",
        "eps=0.0001\n",
        "\n",
        "#Функція відокремлення коренів\n",
        "def find_segments():\n",
        "    search_range = np.arange(-10, 10, 1)\n",
        "\n",
        "    a = None\n",
        "    previous_x = None\n",
        "    current_x  = None\n",
        "    segments = []\n",
        "\n",
        "    for x in search_range:\n",
        "        x = round(x, 4)\n",
        "        current_x = f(x)\n",
        "        if previous_x != None and previous_x * current_x < 0:\n",
        "            segments.append((a, x))\n",
        "        a = x\n",
        "        previous_x = current_x\n",
        "    return segments\n",
        "\n",
        "segments = find_segments()\n",
        "for a, b in segments:\n",
        "    print(f'Знайдені відрізки: [{a}, {b}]')"
      ]
    }
  ]
}